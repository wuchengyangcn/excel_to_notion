{
 "cells": [
  {
   "cell_type": "code",
   "execution_count": 1,
   "id": "c32e2d2463f2bd9b",
   "metadata": {
    "collapsed": false
   },
   "outputs": [],
   "source": [
    "from notion_client import Client\n",
    "import json\n",
    "with open('./notion_token.json', 'r') as f:\n",
    "    notion_token = json.load(f)['notion_token']\n",
    "notion = Client(auth=notion_token)"
   ]
  },
  {
   "cell_type": "code",
   "execution_count": null,
   "id": "df036e46",
   "metadata": {},
   "outputs": [],
   "source": []
  }
 ],
 "metadata": {
  "kernelspec": {
   "display_name": "Python 3",
   "language": "python",
   "name": "python3"
  },
  "language_info": {
   "codemirror_mode": {
    "name": "ipython",
    "version": 3
   },
   "file_extension": ".py",
   "mimetype": "text/x-python",
   "name": "python",
   "nbconvert_exporter": "python",
   "pygments_lexer": "ipython3",
   "version": "3.9.6"
  }
 },
 "nbformat": 4,
 "nbformat_minor": 5
}
