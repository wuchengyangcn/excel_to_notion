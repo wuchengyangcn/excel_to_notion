{
 "cells": [
  {
   "cell_type": "code",
   "execution_count": 1,
   "id": "c32e2d2463f2bd9b",
   "metadata": {
    "collapsed": false
   },
   "outputs": [],
   "source": [
    "from notion_client import Client\n",
    "import json\n",
    "from helper import *\n",
    "\n",
    "# connect to notion\n",
    "with open('./notion_token.json', 'r') as f:\n",
    "    notion_token = json.load(f)['notion_token']\n",
    "notion = Client(auth=notion_token)"
   ]
  },
  {
   "cell_type": "code",
   "execution_count": 2,
   "id": "df036e46",
   "metadata": {},
   "outputs": [],
   "source": [
    "# prerequisites\n",
    "# 1. create connection in notion workspace\n",
    "# 2. create main page in notion workspace\n",
    "# 3. add connection to main page in notion workspace\n",
    "\n",
    "# search for connected main page\n",
    "page_name = 'excel_to_notion'\n",
    "parent_page_id = notion.search(query=page_name)['results'][0]['id']\n",
    "\n",
    "# create child page under parent page\n",
    "child_page = notion.pages.create(\n",
    "    parent={'page_id': parent_page_id},\n",
    "    properties=title('2/26 MusicNBrain Festival Program (Session 1-3)'),\n",
    "    cover=cover('https://assets-global.website-files.com/6011e54d155cc9428daebbdd/6375ae7f5b8d277ea441c033_Rental_concerthalll.jpeg'),\n",
    "    icon=icon('https://assets-global.website-files.com/6011e54d61042f6e5b8cee51/601c2c98f19e7b25abe89daf_LOGO%20green%20and%20yellow%20250x250.png'),\n",
    ")\n",
    "\n",
    "# get child page id\n",
    "child_page_id = child_page['id']"
   ]
  },
  {
   "cell_type": "code",
   "execution_count": 3,
   "id": "3349016d",
   "metadata": {},
   "outputs": [],
   "source": [
    "# database template\n",
    "def insert_database(parent_id, name, columns, rows):\n",
    "    metadata = database_properties(name, columns)\n",
    "    database = notion.databases.create(\n",
    "        parent={'page_id': parent_id},\n",
    "        is_inline=True,\n",
    "        title=metadata[0],\n",
    "        properties=metadata[1],\n",
    "    )\n",
    "    database_id = database['id']\n",
    "    for row in rows:\n",
    "        notion.pages.create(\n",
    "            parent={'database_id': database_id},\n",
    "            properties=line(columns, row),\n",
    "        )"
   ]
  },
  {
   "cell_type": "code",
   "execution_count": 4,
   "id": "b88dbda748a43cfe",
   "metadata": {},
   "outputs": [],
   "source": [
    "children = []\n",
    "children.append(heading('2/26 MusicNBrain Festival Program (Session 1-3)'))\n",
    "children.append(paragraph('Note: P1-G1-S1 means you are the first performer in Group 1 at Session 1'))\n",
    "children.append(paragraph('C1-G1-S2 means you are the first contestant in Group 1 at Session 2'))\n",
    "\n",
    "parent_1 = bulleted_list_item('Session 1', annotations={'bold': True})\n",
    "child_1 = bulleted_list_item('Group 1: 9:45am PST')\n",
    "child_2 = bulleted_list_item('Group 2: 10:30am PST')\n",
    "parent_1['bulleted_list_item']['children'].append(child_1)\n",
    "parent_1['bulleted_list_item']['children'].append(child_2)\n",
    "children.append(parent_1)\n",
    "\n",
    "parent_2 = bulleted_list_item('Session 2: Draw for the final order', annotations={'bold': True})\n",
    "child_3 = bulleted_list_item('Group 1: 12:45pm PST')\n",
    "child_4 = bulleted_list_item('Group 2: 1:40pm PST')\n",
    "parent_2['bulleted_list_item']['children'].append(child_3)\n",
    "parent_2['bulleted_list_item']['children'].append(child_4)\n",
    "children.append(parent_2)\n",
    "\n",
    "parent_3 = bulleted_list_item('Session 3: Draw for the final order', annotations={'bold': True})\n",
    "child_5 = bulleted_list_item('Group 1: 3pm PST')\n",
    "child_6 = bulleted_list_item('Group 2: 4pm PST')\n",
    "parent_3['bulleted_list_item']['children'].append(child_5)\n",
    "parent_3['bulleted_list_item']['children'].append(child_6)\n",
    "children.append(parent_3)\n",
    "\n",
    "blocks = notion.blocks.children.append(block_id=child_page_id, children=children)\n",
    "columns = ['Name', 'Title of piece', 'Composer']\n",
    "rows = [\n",
    "    ['Allison', 'Christian Petzold', 'Minuet in G'],\n",
    "    ['Bosco', '(1) I love mountains. (2) March Militaire', 'Franz Schubert'],\n",
    "    ['Aiden', 'The Animal Band', 'The Animal Band'],\n",
    "    ['Christy', 'Minute in D minor', 'Johann Bach'],\n",
    "    ['Jiayu', 'Spanish Caballero', 'Manuel Fernández Caballero']\n",
    "]\n",
    "title = 'Session 1 (10am-12pm) All Ages'\n",
    "\n",
    "insert_database(child_page_id, title, columns, rows)\n",
    "children = []\n",
    "children.append(paragraph('(*) means performance only, not for competition'))\n",
    "children.append(paragraph('C1-G1-S2 means you are the first contestant in Group 1 at Session 2'))\n",
    "blocks = notion.blocks.children.append(block_id=child_page_id, children=children)\n",
    "\n",
    "insert_database(child_page_id, title, columns, rows)\n",
    "children = []\n",
    "children.append(paragraph('(*) means performance only, not for competition'))\n",
    "children.append(paragraph('C1-G1-S2 means you are the first contestant in Group 1 at Session 2'))\n",
    "blocks = notion.blocks.children.append(block_id=child_page_id, children=children)\n",
    "\n",
    "insert_database(child_page_id, title, columns, rows)\n",
    "children = []\n",
    "children.append(paragraph('(*) means performance only, not for competition'))\n",
    "children.append(paragraph('C1-G1-S2 means you are the first contestant in Group 1 at Session 2'))\n",
    "blocks = notion.blocks.children.append(block_id=child_page_id, children=children)\n"
   ]
  }
 ],
 "metadata": {
  "kernelspec": {
   "display_name": "Python 3",
   "language": "python",
   "name": "python3"
  },
  "language_info": {
   "codemirror_mode": {
    "name": "ipython",
    "version": 3
   },
   "file_extension": ".py",
   "mimetype": "text/x-python",
   "name": "python",
   "nbconvert_exporter": "python",
   "pygments_lexer": "ipython3",
   "version": "3.9.6"
  }
 },
 "nbformat": 4,
 "nbformat_minor": 5
}
